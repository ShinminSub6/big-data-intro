{
 "cells": [
  {
   "cell_type": "code",
   "execution_count": 2,
   "id": "3171a142-946d-449b-a48b-91843cdd8c3c",
   "metadata": {},
   "outputs": [],
   "source": [
    "from pyspark.sql import SparkSession\n",
    "spark = SparkSession.builder.master('local').appName('udf').getOrCreate()"
   ]
  },
  {
   "cell_type": "code",
   "execution_count": 4,
   "id": "3ed7fe93-1ac9-4191-ac79-f3145518fd18",
   "metadata": {},
   "outputs": [],
   "source": [
    "people_age = [\n",
    "    ('신민섭', 22),\n",
    "    ('엘링 홀란드', 22),\n",
    "    ('케빈 데 브라이너', 31),\n",
    "    ('로드리', 26),\n",
    "    ('필 포든', 22),\n",
    "    ('카일 워커', 32),\n",
    "    ('펩 과르디올라', 52),\n",
    "    ('알렉스 퍼거슨', 81)\n",
    "]"
   ]
  },
  {
   "cell_type": "code",
   "execution_count": 5,
   "id": "658e3428-8cef-424e-b368-44925d31b177",
   "metadata": {},
   "outputs": [],
   "source": [
    "schema = ['name', 'age']"
   ]
  },
  {
   "cell_type": "code",
   "execution_count": 7,
   "id": "454411d4-d02a-4162-9b42-665a67d221b8",
   "metadata": {},
   "outputs": [],
   "source": [
    "df = spark.createDataFrame(data = people_age, schema=schema)"
   ]
  },
  {
   "cell_type": "code",
   "execution_count": 8,
   "id": "719f599c-d4eb-4593-bf1e-d2cc727c4475",
   "metadata": {},
   "outputs": [
    {
     "name": "stdout",
     "output_type": "stream",
     "text": [
      "+----------------+---+\n",
      "|            name|age|\n",
      "+----------------+---+\n",
      "|          신민섭| 22|\n",
      "|     엘링 홀란드| 22|\n",
      "|케빈 데 브라이너| 31|\n",
      "|          로드리| 26|\n",
      "|         필 포든| 22|\n",
      "|       카일 워커| 32|\n",
      "|   펩 과르디올라| 52|\n",
      "|   알렉스 퍼거슨| 81|\n",
      "+----------------+---+\n",
      "\n"
     ]
    }
   ],
   "source": [
    "df.show()"
   ]
  },
  {
   "cell_type": "code",
   "execution_count": 9,
   "id": "208e99c9-91da-4fa9-aff1-f6cdf705cb45",
   "metadata": {},
   "outputs": [],
   "source": [
    "df.createOrReplaceTempView('name_age')"
   ]
  },
  {
   "cell_type": "code",
   "execution_count": 10,
   "id": "2ac58467-cf54-476b-bfb6-97ebf522d1d2",
   "metadata": {},
   "outputs": [],
   "source": [
    "def age_category(age):\n",
    "    if (age<35):\n",
    "        return \"young\"\n",
    "    elif (age >=35 and age <=59) :\n",
    "        return \"adult\"\n",
    "    else :\n",
    "        return \"senior\""
   ]
  },
  {
   "cell_type": "code",
   "execution_count": 11,
   "id": "de760900-3774-41c7-b5d4-0a64d9c3e7af",
   "metadata": {},
   "outputs": [
    {
     "data": {
      "text/plain": [
       "<function __main__.age_category(age)>"
      ]
     },
     "execution_count": 11,
     "metadata": {},
     "output_type": "execute_result"
    }
   ],
   "source": [
    "spark.udf.register('age_category', age_category)"
   ]
  },
  {
   "cell_type": "code",
   "execution_count": 12,
   "id": "a9a7de2f-5252-4560-93f2-2df943aa76df",
   "metadata": {},
   "outputs": [
    {
     "name": "stdout",
     "output_type": "stream",
     "text": [
      "+----------------+---+-----------------+\n",
      "|            name|age|age_category(age)|\n",
      "+----------------+---+-----------------+\n",
      "|          신민섭| 22|            young|\n",
      "|     엘링 홀란드| 22|            young|\n",
      "|케빈 데 브라이너| 31|            young|\n",
      "|          로드리| 26|            young|\n",
      "|         필 포든| 22|            young|\n",
      "|       카일 워커| 32|            young|\n",
      "|   펩 과르디올라| 52|            adult|\n",
      "|   알렉스 퍼거슨| 81|           senior|\n",
      "+----------------+---+-----------------+\n",
      "\n"
     ]
    }
   ],
   "source": [
    "spark.sql('SELECT name,age,age_category(age) FROM name_age').show()"
   ]
  },
  {
   "cell_type": "code",
   "execution_count": null,
   "id": "8cdea597-bb16-4b72-9de5-2bb2b0f5ecac",
   "metadata": {},
   "outputs": [],
   "source": []
  }
 ],
 "metadata": {
  "kernelspec": {
   "display_name": "Python 3 (ipykernel)",
   "language": "python",
   "name": "python3"
  },
  "language_info": {
   "codemirror_mode": {
    "name": "ipython",
    "version": 3
   },
   "file_extension": ".py",
   "mimetype": "text/x-python",
   "name": "python",
   "nbconvert_exporter": "python",
   "pygments_lexer": "ipython3",
   "version": "3.9.12"
  }
 },
 "nbformat": 4,
 "nbformat_minor": 5
}
